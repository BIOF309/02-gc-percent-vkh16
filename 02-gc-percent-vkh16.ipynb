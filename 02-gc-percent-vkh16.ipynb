{
 "cells": [
  {
   "cell_type": "markdown",
   "metadata": {},
   "source": [
    "# V_Hill_GC calculator homework"
   ]
  },
  {
   "cell_type": "markdown",
   "metadata": {},
   "source": [
    "The objective of this homework is to write some code that will calculate the GC content of a DNA sequence. \n",
    "\n",
    "The sequence has been provided: "
   ]
  },
  {
   "cell_type": "code",
   "execution_count": null,
   "metadata": {
    "collapsed": true
   },
   "outputs": [],
   "source": [
    "# This sequence is the first 100 nucleotides of the Influenza H1N1 Virus segment 8\n",
    "\n",
    "flu_ns1_seq = 'GTGACAAAGACATAATGGATCCAAACACTGTGTCAAGCTTTCAGGTAGATTGCTTTCTTTGGCATGTCCGCAAACGAGTTGCAGACCAAGAACTAGGTGA'"
   ]
  },
  {
   "cell_type": "markdown",
   "metadata": {},
   "source": [
    "It was suggested to first write some pseudocode. Pseudocode is where you firs write down what you want your code to do in 'normal' words, not code, so that it easier to write some code to do exactly what you want it to do. \n",
    "\n",
    "\n",
    "Pseudocode:\n",
    "- Count the number of \"C\"s in the above sequence\n",
    "- Count the number of \"G\"s in the above sequence\n",
    "- Add \"C\" and \"G\" counts together\n",
    "- Count the total number of nucleotides in the sequence\n",
    "- Divide the total number of \"C\" and \"G\" nucleotides by the total number of nucleotides\n",
    "- Print the percentage"
   ]
  },
  {
   "cell_type": "code",
   "execution_count": 20,
   "metadata": {},
   "outputs": [
    {
     "name": "stdout",
     "output_type": "stream",
     "text": [
      "GTGACAAAGACATAATGGATCCAAACACTGTGTCAAGCTTTCAGGTAGATTGCTTTCTTTGGCATGTCCGCAAACGAGTTGCAGACCAAGAACTAGGTGA\n"
     ]
    },
    {
     "data": {
      "text/plain": [
       "str"
      ]
     },
     "execution_count": 20,
     "metadata": {},
     "output_type": "execute_result"
    }
   ],
   "source": [
    "# First define the sequence variable that you want to count. \n",
    "# You want this to be a string so use (\"\") to surround your input.\n",
    "# Check you have done this correctly by using the print() and type() functions. \n",
    "\n",
    "flu_ns1_seq = (\"GTGACAAAGACATAATGGATCCAAACACTGTGTCAAGCTTTCAGGTAGATTGCTTTCTTTGGCATGTCCGCAAACGAGTTGCAGACCAAGAACTAGGTGA\")\n",
    "print(flu_ns1_seq)\n",
    "type(flu_ns1_seq)"
   ]
  },
  {
   "cell_type": "code",
   "execution_count": 24,
   "metadata": {},
   "outputs": [
    {
     "name": "stdout",
     "output_type": "stream",
     "text": [
      "20\n"
     ]
    }
   ],
   "source": [
    "# Use the count method to count the number of \"C\"s in the sequence and assign this to a new variable, 'C_count'\n",
    "# Use the print() function to check your code.\n",
    "\n",
    "C_count = flu_ns1_seq.count(\"C\")\n",
    "print(C_count)"
   ]
  },
  {
   "cell_type": "code",
   "execution_count": 26,
   "metadata": {},
   "outputs": [
    {
     "name": "stdout",
     "output_type": "stream",
     "text": [
      "24\n"
     ]
    }
   ],
   "source": [
    "# Use the count method to count the number of \"G\"s in the sequence and assign this to a new variable, 'G_count' \n",
    "# Use the print() function to check your code. \n",
    "\n",
    "G_count = flu_ns1_seq.count(\"G\")\n",
    "print(G_count)"
   ]
  },
  {
   "cell_type": "code",
   "execution_count": 27,
   "metadata": {},
   "outputs": [
    {
     "name": "stdout",
     "output_type": "stream",
     "text": [
      "44\n"
     ]
    }
   ],
   "source": [
    "# Add together the number of \"C\"s and the number of \"G\"s and assign this to a new variable, 'GC_count'\n",
    "# Use the print() function to check your code. \n",
    "\n",
    "GC_count = C_count + G_count\n",
    "print(GC_count)\n"
   ]
  },
  {
   "cell_type": "code",
   "execution_count": 29,
   "metadata": {},
   "outputs": [
    {
     "name": "stdout",
     "output_type": "stream",
     "text": [
      "100\n"
     ]
    }
   ],
   "source": [
    "# Use the len() function to count the number of nucleotides in the sequence and assign this to a new variable, 'total_count'\n",
    "# Use the print() function to check your code.\n",
    "\n",
    "total_count = len(flu_ns1_seq)\n",
    "print(total_count)\n"
   ]
  },
  {
   "cell_type": "code",
   "execution_count": 30,
   "metadata": {},
   "outputs": [
    {
     "name": "stdout",
     "output_type": "stream",
     "text": [
      "44.0\n"
     ]
    }
   ],
   "source": [
    "# Divide the total number of \"C\"s and \"G\"s by the total count and multiply by 100 \n",
    "# assign this to a new variable 'GC_percentage'\n",
    "# Use the print() function to show the percentage \n",
    "\n",
    "GC_percentage = (GC_count/total_count)*100\n",
    "print(GC_percentage)"
   ]
  },
  {
   "cell_type": "code",
   "execution_count": 31,
   "metadata": {},
   "outputs": [
    {
     "name": "stdout",
     "output_type": "stream",
     "text": [
      "44.0\n"
     ]
    }
   ],
   "source": [
    "# You could do this all in one go: \n",
    "\n",
    "flu_ns1_seq = (\"GTGACAAAGACATAATGGATCCAAACACTGTGTCAAGCTTTCAGGTAGATTGCTTTCTTTGGCATGTCCGCAAACGAGTTGCAGACCAAGAACTAGGTGA\")\n",
    "C_count = flu_ns1_seq.count(\"C\")\n",
    "G_count = flu_ns1_seq.count(\"G\")\n",
    "GC_count = C_count + G_count\n",
    "total_count = len(flu_ns1_seq)\n",
    "GC_percentage = (GC_count/total_count)*100\n",
    "print(GC_percentage)"
   ]
  },
  {
   "cell_type": "code",
   "execution_count": null,
   "metadata": {
    "collapsed": true
   },
   "outputs": [],
   "source": [
    "# I have checked that putting it all in one cell together works by copying and pasting into a new notebook."
   ]
  }
 ],
 "metadata": {
  "kernelspec": {
   "display_name": "Python 3",
   "language": "python",
   "name": "python3"
  },
  "language_info": {
   "codemirror_mode": {
    "name": "ipython",
    "version": 3
   },
   "file_extension": ".py",
   "mimetype": "text/x-python",
   "name": "python",
   "nbconvert_exporter": "python",
   "pygments_lexer": "ipython3",
   "version": "3.6.2"
  }
 },
 "nbformat": 4,
 "nbformat_minor": 2
}
